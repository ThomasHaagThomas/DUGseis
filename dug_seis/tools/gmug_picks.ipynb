{
 "cells": [
  {
   "cell_type": "code",
   "execution_count": 1,
   "metadata": {},
   "outputs": [],
   "source": [
    "import re\n",
    "import os\n",
    "from operator import itemgetter\n",
    "import sys\n",
    "\n",
    "sys.path.append('/home/1/dev/proj/dugseis/devel/processing/analysis/')\n",
    "\n",
    "import pandas as pd\n",
    "from obspy import UTCDateTime\n",
    "\n",
    "import ds_picker_histogram"
   ]
  },
  {
   "cell_type": "markdown",
   "metadata": {},
   "source": [
    "## Setup Reference Data"
   ]
  },
  {
   "cell_type": "code",
   "execution_count": 2,
   "metadata": {},
   "outputs": [],
   "source": [
    "src = '/mnt/da/tmp/dug-seis/src/Gmug/s-wave/Foci_Picks_Tabelle1_HP5000_pickDaniel.txt'\n",
    "events = []\n",
    "\n",
    "with open(src, 'r') as fh:\n",
    "    lines = fh.read().strip().split('\\n')\n",
    "\n",
    "# 1128 events\n",
    "for idx in range(len(lines)):\n",
    "    line = lines[idx].strip()\n",
    "    if idx % 3 == 0:\n",
    "        parts = line.replace('.fsf', '').split('_')\n",
    "        events.append({\n",
    "            'idx'  : int(idx / 3),\n",
    "            'id'   : parts[0],\n",
    "            'name' : parts[1],\n",
    "            'num'  : parts[2],\n",
    "        })\n",
    "    elif idx % 3 == 1:\n",
    "        events[-1]['p'] = [int(t) for t in line.split()[0:12]]\n",
    "    else:\n",
    "        events[-1]['s'] = [int(t) for t in line.split()[0:12]]"
   ]
  },
  {
   "cell_type": "code",
   "execution_count": 3,
   "metadata": {},
   "outputs": [
    {
     "name": "stdout",
     "output_type": "stream",
     "text": [
      "1128 events\n"
     ]
    }
   ],
   "source": [
    "print(f'{len(events)} events')"
   ]
  },
  {
   "cell_type": "code",
   "execution_count": 4,
   "metadata": {},
   "outputs": [
    {
     "data": {
      "text/plain": [
       "503"
      ]
     },
     "execution_count": 4,
     "metadata": {},
     "output_type": "execute_result"
    }
   ],
   "source": [
    "# Kann es sein, dass ein Event bei 0 liegt? – Eigentlich nicht.\n",
    "non_events = [e for e in events if sum(e['p']) == 0 and sum(e['s']) == 0]\n",
    "len(non_events)"
   ]
  },
  {
   "cell_type": "markdown",
   "metadata": {},
   "source": [
    "Es gibt in der Datei <code>Foci_Picks_Tabelle1_HP5000_pickDaniel.txt</code> keine Möglichkeit,  \n",
    "die Anfangszeit eines Events festzustellen, außer dem ersten. Deshalb werden diese von den  \n",
    "Namen der H5-Dateien geholt."
   ]
  },
  {
   "cell_type": "code",
   "execution_count": 5,
   "metadata": {},
   "outputs": [
    {
     "data": {
      "text/plain": [
       "['2015-03-25T00:14:49.4000',\n",
       " '2015-03-25T00:16:33.2470',\n",
       " '2015-03-25T00:25:06.2480',\n",
       " '2015-03-25T00:43:14.4940',\n",
       " '2015-03-25T00:51:31.8030']"
      ]
     },
     "execution_count": 5,
     "metadata": {},
     "output_type": "execute_result"
    }
   ],
   "source": [
    "dir = '/home/1/dev/proj/dugseis/devel/processing/s-wave/ASDF'\n",
    "times = [x[:-9] for x in sorted(os.listdir(dir))[:-1]]\n",
    "times_str = [re.sub('(..)-(..)-(..)(....)$', r'\\1:\\2:\\3.\\4', t) for t in times]\n",
    "times_utc = [UTCDateTime(t) for t in times_str]\n",
    "\n",
    "times_str[0:5]"
   ]
  },
  {
   "cell_type": "code",
   "execution_count": 6,
   "metadata": {},
   "outputs": [],
   "source": [
    "def format_name(s):\n",
    "    return re.sub('(....)(..)(..)(..)(..)(..)(.*)', r'\\1-\\2-\\3T\\4:\\5:\\6.\\7', s[3:])\n",
    "\n",
    "def utc_of_list(col):\n",
    "    def func(row):\n",
    "        return [(row['starttime'] + x / 500_0400 if x != 0 else None) for x in row[col]]\n",
    "    return func\n",
    "\n",
    "ref = pd.DataFrame(events)\n",
    "ref.sort_values(by=['name', 'num'], inplace=True)\n",
    "\n",
    "ref.insert(3, column='starttime_str', value=times_str)\n",
    "ref.insert(4, column='starttime', value=times_utc)\n",
    "# ref.iloc[:1, :]"
   ]
  },
  {
   "cell_type": "code",
   "execution_count": 7,
   "metadata": {},
   "outputs": [],
   "source": [
    "ref.insert(ref.columns.get_loc('p') + 1, column='p_times', value=None)\n",
    "ref['p_times'] = ref.apply(utc_of_list('p'), axis=1)\n",
    "\n",
    "ref.insert(ref.columns.get_loc('s') + 1, column='s_times', value=None)\n",
    "ref['s_times'] = ref.apply(utc_of_list('s'), axis=1)\n",
    "# ref.iloc[:1, :]"
   ]
  },
  {
   "cell_type": "code",
   "execution_count": 8,
   "metadata": {},
   "outputs": [
    {
     "data": {
      "text/html": [
       "<div>\n",
       "<style scoped>\n",
       "    .dataframe tbody tr th:only-of-type {\n",
       "        vertical-align: middle;\n",
       "    }\n",
       "\n",
       "    .dataframe tbody tr th {\n",
       "        vertical-align: top;\n",
       "    }\n",
       "\n",
       "    .dataframe thead th {\n",
       "        text-align: right;\n",
       "    }\n",
       "</style>\n",
       "<table border=\"1\" class=\"dataframe\">\n",
       "  <thead>\n",
       "    <tr style=\"text-align: right;\">\n",
       "      <th></th>\n",
       "      <th>starttime_str</th>\n",
       "      <th>p_times</th>\n",
       "      <th>s_times</th>\n",
       "    </tr>\n",
       "  </thead>\n",
       "  <tbody>\n",
       "    <tr>\n",
       "      <th>856</th>\n",
       "      <td>2015-03-25T00:14:49.4000</td>\n",
       "      <td>[2015-03-25T00:14:49.400681Z, 2015-03-25T00:14...</td>\n",
       "      <td>[2015-03-25T00:14:49.400772Z, 2015-03-25T00:14...</td>\n",
       "    </tr>\n",
       "    <tr>\n",
       "      <th>103</th>\n",
       "      <td>2015-03-25T00:16:33.2470</td>\n",
       "      <td>[2015-03-25T00:16:33.247993Z, 2015-03-25T00:16...</td>\n",
       "      <td>[None, 2015-03-25T00:16:33.247579Z, 2015-03-25...</td>\n",
       "    </tr>\n",
       "    <tr>\n",
       "      <th>68</th>\n",
       "      <td>2015-03-25T00:25:06.2480</td>\n",
       "      <td>[2015-03-25T00:25:06.249003Z, 2015-03-25T00:25...</td>\n",
       "      <td>[2015-03-25T00:25:06.249187Z, 2015-03-25T00:25...</td>\n",
       "    </tr>\n",
       "    <tr>\n",
       "      <th>131</th>\n",
       "      <td>2015-03-25T00:43:14.4940</td>\n",
       "      <td>[2015-03-25T00:43:14.495039Z, 2015-03-25T00:43...</td>\n",
       "      <td>[None, 2015-03-25T00:43:14.494714Z, 2015-03-25...</td>\n",
       "    </tr>\n",
       "    <tr>\n",
       "      <th>394</th>\n",
       "      <td>2015-03-25T00:51:31.8030</td>\n",
       "      <td>[2015-03-25T00:51:31.803644Z, 2015-03-25T00:51...</td>\n",
       "      <td>[2015-03-25T00:51:31.803918Z, 2015-03-25T00:51...</td>\n",
       "    </tr>\n",
       "  </tbody>\n",
       "</table>\n",
       "</div>"
      ],
      "text/plain": [
       "                starttime_str  \\\n",
       "856  2015-03-25T00:14:49.4000   \n",
       "103  2015-03-25T00:16:33.2470   \n",
       "68   2015-03-25T00:25:06.2480   \n",
       "131  2015-03-25T00:43:14.4940   \n",
       "394  2015-03-25T00:51:31.8030   \n",
       "\n",
       "                                               p_times  \\\n",
       "856  [2015-03-25T00:14:49.400681Z, 2015-03-25T00:14...   \n",
       "103  [2015-03-25T00:16:33.247993Z, 2015-03-25T00:16...   \n",
       "68   [2015-03-25T00:25:06.249003Z, 2015-03-25T00:25...   \n",
       "131  [2015-03-25T00:43:14.495039Z, 2015-03-25T00:43...   \n",
       "394  [2015-03-25T00:51:31.803644Z, 2015-03-25T00:51...   \n",
       "\n",
       "                                               s_times  \n",
       "856  [2015-03-25T00:14:49.400772Z, 2015-03-25T00:14...  \n",
       "103  [None, 2015-03-25T00:16:33.247579Z, 2015-03-25...  \n",
       "68   [2015-03-25T00:25:06.249187Z, 2015-03-25T00:25...  \n",
       "131  [None, 2015-03-25T00:43:14.494714Z, 2015-03-25...  \n",
       "394  [2015-03-25T00:51:31.803918Z, 2015-03-25T00:51...  "
      ]
     },
     "execution_count": 8,
     "metadata": {},
     "output_type": "execute_result"
    }
   ],
   "source": [
    "ref.loc[:, ['starttime_str', 'p_times', 's_times']].iloc[:5, :]\n",
    "ref2 = ref.loc[:, ['starttime_str', 'p_times', 's_times']]\n",
    "ref2.iloc[:5, :]"
   ]
  },
  {
   "cell_type": "markdown",
   "metadata": {},
   "source": [
    "## Import DUG-Seis Picks"
   ]
  },
  {
   "cell_type": "code",
   "execution_count": 9,
   "metadata": {},
   "outputs": [],
   "source": [
    "def fill_gaps(li, length):\n",
    "    di = {k: None for k in range(length)}\n",
    "    # create empty dict\n",
    "    for el in li:\n",
    "        di[int(el[0] - 1)] = el[1]\n",
    "    # create list\n",
    "    return [di[key] for key in sorted(di.keys())]\n",
    "\n",
    "\n",
    "def parse_pick_data_times(file):\n",
    "    with open(file, 'r') as fh:\n",
    "        lines = fh.read().strip().split('\\n')\n",
    "    picks = []\n",
    "    for line in lines:\n",
    "        parts = line.split('%')\n",
    "        pick = {'starttime_str': re.sub('T(..)-(..)-(..)(....)Z.*', r'T\\1:\\2:\\3.\\4', parts[0])}\n",
    "\n",
    "        parts = parts[1].split('$')\n",
    "\n",
    "        parts = parts[1].split(';')\n",
    "        pick['picks'] = [p.split(',') for p in parts]\n",
    "        if parts == ['']:\n",
    "            pick['picks'] = []\n",
    "        else:\n",
    "            for p in pick['picks']:\n",
    "                p[0] = int(p[0])\n",
    "                p[1] = UTCDateTime(p[1])\n",
    "\n",
    "        pick['picks'] = fill_gaps(pick['picks'], 12)\n",
    "        picks.append(pick)\n",
    "    return picks"
   ]
  },
  {
   "cell_type": "code",
   "execution_count": 10,
   "metadata": {},
   "outputs": [],
   "source": [
    "thr_on_str = '11'\n",
    "file = f'/mnt/da/tmp/dug-seis/analysis/gmug/12_ch/thr_on_{thr_on_str}/picks_s.csv'"
   ]
  },
  {
   "cell_type": "code",
   "execution_count": 11,
   "metadata": {},
   "outputs": [
    {
     "data": {
      "text/plain": [
       "0"
      ]
     },
     "execution_count": 11,
     "metadata": {},
     "output_type": "execute_result"
    }
   ],
   "source": [
    "dug_pp = parse_pick_data_times(file)\n",
    "dug_pp = pd.DataFrame(dug_pp)\n",
    "# Test auf Doubletten bei starttime_str\n",
    "len(dug_pp[dug_pp.duplicated('starttime_str', keep=False)])"
   ]
  },
  {
   "cell_type": "code",
   "execution_count": 12,
   "metadata": {},
   "outputs": [],
   "source": [
    "def count_picks(row):\n",
    "    return len([x for x in row['picks'] if x is not None])\n",
    "\n",
    "dug_pp['picks_count'] = dug_pp.apply(count_picks, axis=1)"
   ]
  },
  {
   "cell_type": "code",
   "execution_count": 13,
   "metadata": {},
   "outputs": [
    {
     "name": "stdout",
     "output_type": "stream",
     "text": [
      "1127\n"
     ]
    },
    {
     "data": {
      "text/plain": [
       "{0: 599,\n",
       " 1: 325,\n",
       " 2: 115,\n",
       " 3: 53,\n",
       " 4: 19,\n",
       " 5: 12,\n",
       " 6: 2,\n",
       " 7: 2,\n",
       " 8: 0,\n",
       " 9: 0,\n",
       " 10: 0,\n",
       " 11: 0,\n",
       " 12: 0}"
      ]
     },
     "execution_count": 13,
     "metadata": {},
     "output_type": "execute_result"
    }
   ],
   "source": [
    "# dug_pp.iloc[1, 1]\n",
    "# len(dug_pp)\n",
    "dug_pp[0:10]\n",
    "print(len(dug_pp))\n",
    "statistic = {}\n",
    "for i in range(13):\n",
    "    statistic[i] = len(dug_pp[dug_pp['picks_count'] == i])\n",
    "# print(len(dug_pp[dug_pp['picks_count'] == 0]))\n",
    "statistic"
   ]
  },
  {
   "cell_type": "code",
   "execution_count": 14,
   "metadata": {},
   "outputs": [
    {
     "data": {
      "text/html": [
       "<div>\n",
       "<style scoped>\n",
       "    .dataframe tbody tr th:only-of-type {\n",
       "        vertical-align: middle;\n",
       "    }\n",
       "\n",
       "    .dataframe tbody tr th {\n",
       "        vertical-align: top;\n",
       "    }\n",
       "\n",
       "    .dataframe thead th {\n",
       "        text-align: right;\n",
       "    }\n",
       "</style>\n",
       "<table border=\"1\" class=\"dataframe\">\n",
       "  <thead>\n",
       "    <tr style=\"text-align: right;\">\n",
       "      <th></th>\n",
       "      <th>starttime_str</th>\n",
       "      <th>p_times</th>\n",
       "      <th>s_times</th>\n",
       "      <th>picks</th>\n",
       "      <th>picks_count</th>\n",
       "      <th>_merge</th>\n",
       "    </tr>\n",
       "  </thead>\n",
       "  <tbody>\n",
       "    <tr>\n",
       "      <th>13</th>\n",
       "      <td>2015-03-25T01:18:58.0580</td>\n",
       "      <td>[2015-03-25T01:18:58.060294Z, 2015-03-25T01:18...</td>\n",
       "      <td>[None, None, None, None, None, None, 2015-03-2...</td>\n",
       "      <td>NaN</td>\n",
       "      <td>NaN</td>\n",
       "      <td>left_only</td>\n",
       "    </tr>\n",
       "  </tbody>\n",
       "</table>\n",
       "</div>"
      ],
      "text/plain": [
       "               starttime_str  \\\n",
       "13  2015-03-25T01:18:58.0580   \n",
       "\n",
       "                                              p_times  \\\n",
       "13  [2015-03-25T01:18:58.060294Z, 2015-03-25T01:18...   \n",
       "\n",
       "                                              s_times picks  picks_count  \\\n",
       "13  [None, None, None, None, None, None, 2015-03-2...   NaN          NaN   \n",
       "\n",
       "       _merge  \n",
       "13  left_only  "
      ]
     },
     "execution_count": 14,
     "metadata": {},
     "output_type": "execute_result"
    }
   ],
   "source": [
    "merged = ref2.merge(dug_pp, on='starttime_str', how='outer', indicator=True)\n",
    "merged.iloc[:50, :]\n",
    "len(merged[merged._merge == 'both'])\n",
    "len(merged[merged._merge == 'left_only'])\n",
    "merged[merged._merge == 'left_only']"
   ]
  },
  {
   "cell_type": "code",
   "execution_count": 15,
   "metadata": {},
   "outputs": [
    {
     "data": {
      "text/plain": [
       "1127"
      ]
     },
     "execution_count": 15,
     "metadata": {},
     "output_type": "execute_result"
    }
   ],
   "source": [
    "merged = ref2.merge(dug_pp, on='starttime_str', how='inner')\n",
    "len(merged)"
   ]
  },
  {
   "cell_type": "code",
   "execution_count": 16,
   "metadata": {},
   "outputs": [
    {
     "data": {
      "text/html": [
       "<div>\n",
       "<style scoped>\n",
       "    .dataframe tbody tr th:only-of-type {\n",
       "        vertical-align: middle;\n",
       "    }\n",
       "\n",
       "    .dataframe tbody tr th {\n",
       "        vertical-align: top;\n",
       "    }\n",
       "\n",
       "    .dataframe thead th {\n",
       "        text-align: right;\n",
       "    }\n",
       "</style>\n",
       "<table border=\"1\" class=\"dataframe\">\n",
       "  <thead>\n",
       "    <tr style=\"text-align: right;\">\n",
       "      <th></th>\n",
       "      <th>starttime_str</th>\n",
       "      <th>p_times</th>\n",
       "      <th>s_times</th>\n",
       "      <th>picks</th>\n",
       "      <th>picks_count</th>\n",
       "    </tr>\n",
       "  </thead>\n",
       "  <tbody>\n",
       "    <tr>\n",
       "      <th>0</th>\n",
       "      <td>2015-03-25T00:14:49.4000</td>\n",
       "      <td>[2015-03-25T00:14:49.400681Z, 2015-03-25T00:14...</td>\n",
       "      <td>[2015-03-25T00:14:49.400772Z, 2015-03-25T00:14...</td>\n",
       "      <td>[None, None, None, None, None, None, None, Non...</td>\n",
       "      <td>0</td>\n",
       "    </tr>\n",
       "    <tr>\n",
       "      <th>1</th>\n",
       "      <td>2015-03-25T00:16:33.2470</td>\n",
       "      <td>[2015-03-25T00:16:33.247993Z, 2015-03-25T00:16...</td>\n",
       "      <td>[None, 2015-03-25T00:16:33.247579Z, 2015-03-25...</td>\n",
       "      <td>[None, None, None, None, None, 2015-03-25T00:1...</td>\n",
       "      <td>1</td>\n",
       "    </tr>\n",
       "    <tr>\n",
       "      <th>2</th>\n",
       "      <td>2015-03-25T00:25:06.2480</td>\n",
       "      <td>[2015-03-25T00:25:06.249003Z, 2015-03-25T00:25...</td>\n",
       "      <td>[2015-03-25T00:25:06.249187Z, 2015-03-25T00:25...</td>\n",
       "      <td>[None, None, 2015-03-25T00:25:06.250624Z, None...</td>\n",
       "      <td>2</td>\n",
       "    </tr>\n",
       "    <tr>\n",
       "      <th>3</th>\n",
       "      <td>2015-03-25T00:43:14.4940</td>\n",
       "      <td>[2015-03-25T00:43:14.495039Z, 2015-03-25T00:43...</td>\n",
       "      <td>[None, 2015-03-25T00:43:14.494714Z, 2015-03-25...</td>\n",
       "      <td>[None, None, None, None, None, None, 2015-03-2...</td>\n",
       "      <td>1</td>\n",
       "    </tr>\n",
       "    <tr>\n",
       "      <th>4</th>\n",
       "      <td>2015-03-25T00:51:31.8030</td>\n",
       "      <td>[2015-03-25T00:51:31.803644Z, 2015-03-25T00:51...</td>\n",
       "      <td>[2015-03-25T00:51:31.803918Z, 2015-03-25T00:51...</td>\n",
       "      <td>[None, None, None, None, None, None, None, Non...</td>\n",
       "      <td>1</td>\n",
       "    </tr>\n",
       "    <tr>\n",
       "      <th>5</th>\n",
       "      <td>2015-03-25T00:58:22.5510</td>\n",
       "      <td>[2015-03-25T00:58:22.551699Z, 2015-03-25T00:58...</td>\n",
       "      <td>[2015-03-25T00:58:22.552039Z, 2015-03-25T00:58...</td>\n",
       "      <td>[None, None, None, None, None, None, None, Non...</td>\n",
       "      <td>0</td>\n",
       "    </tr>\n",
       "    <tr>\n",
       "      <th>6</th>\n",
       "      <td>2015-03-25T01:06:01.7110</td>\n",
       "      <td>[None, None, None, None, None, None, None, Non...</td>\n",
       "      <td>[None, None, None, None, None, None, None, Non...</td>\n",
       "      <td>[None, 2015-03-25T01:06:01.713138Z, 2015-03-25...</td>\n",
       "      <td>3</td>\n",
       "    </tr>\n",
       "    <tr>\n",
       "      <th>7</th>\n",
       "      <td>2015-03-25T01:06:56.6490</td>\n",
       "      <td>[None, 2015-03-25T01:06:56.649361Z, 2015-03-25...</td>\n",
       "      <td>[None, 2015-03-25T01:06:56.649485Z, 2015-03-25...</td>\n",
       "      <td>[None, None, None, None, None, None, None, Non...</td>\n",
       "      <td>0</td>\n",
       "    </tr>\n",
       "    <tr>\n",
       "      <th>8</th>\n",
       "      <td>2015-03-25T01:17:02.6640</td>\n",
       "      <td>[None, None, None, None, None, None, None, Non...</td>\n",
       "      <td>[None, None, None, None, None, None, None, Non...</td>\n",
       "      <td>[None, None, None, None, None, None, None, Non...</td>\n",
       "      <td>0</td>\n",
       "    </tr>\n",
       "    <tr>\n",
       "      <th>9</th>\n",
       "      <td>2015-03-25T01:18:53.8800</td>\n",
       "      <td>[2015-03-25T01:18:53.880855Z, 2015-03-25T01:18...</td>\n",
       "      <td>[None, 2015-03-25T01:18:53.881442Z, None, None...</td>\n",
       "      <td>[None, None, 2015-03-25T01:18:53.882268Z, None...</td>\n",
       "      <td>4</td>\n",
       "    </tr>\n",
       "  </tbody>\n",
       "</table>\n",
       "</div>"
      ],
      "text/plain": [
       "              starttime_str  \\\n",
       "0  2015-03-25T00:14:49.4000   \n",
       "1  2015-03-25T00:16:33.2470   \n",
       "2  2015-03-25T00:25:06.2480   \n",
       "3  2015-03-25T00:43:14.4940   \n",
       "4  2015-03-25T00:51:31.8030   \n",
       "5  2015-03-25T00:58:22.5510   \n",
       "6  2015-03-25T01:06:01.7110   \n",
       "7  2015-03-25T01:06:56.6490   \n",
       "8  2015-03-25T01:17:02.6640   \n",
       "9  2015-03-25T01:18:53.8800   \n",
       "\n",
       "                                             p_times  \\\n",
       "0  [2015-03-25T00:14:49.400681Z, 2015-03-25T00:14...   \n",
       "1  [2015-03-25T00:16:33.247993Z, 2015-03-25T00:16...   \n",
       "2  [2015-03-25T00:25:06.249003Z, 2015-03-25T00:25...   \n",
       "3  [2015-03-25T00:43:14.495039Z, 2015-03-25T00:43...   \n",
       "4  [2015-03-25T00:51:31.803644Z, 2015-03-25T00:51...   \n",
       "5  [2015-03-25T00:58:22.551699Z, 2015-03-25T00:58...   \n",
       "6  [None, None, None, None, None, None, None, Non...   \n",
       "7  [None, 2015-03-25T01:06:56.649361Z, 2015-03-25...   \n",
       "8  [None, None, None, None, None, None, None, Non...   \n",
       "9  [2015-03-25T01:18:53.880855Z, 2015-03-25T01:18...   \n",
       "\n",
       "                                             s_times  \\\n",
       "0  [2015-03-25T00:14:49.400772Z, 2015-03-25T00:14...   \n",
       "1  [None, 2015-03-25T00:16:33.247579Z, 2015-03-25...   \n",
       "2  [2015-03-25T00:25:06.249187Z, 2015-03-25T00:25...   \n",
       "3  [None, 2015-03-25T00:43:14.494714Z, 2015-03-25...   \n",
       "4  [2015-03-25T00:51:31.803918Z, 2015-03-25T00:51...   \n",
       "5  [2015-03-25T00:58:22.552039Z, 2015-03-25T00:58...   \n",
       "6  [None, None, None, None, None, None, None, Non...   \n",
       "7  [None, 2015-03-25T01:06:56.649485Z, 2015-03-25...   \n",
       "8  [None, None, None, None, None, None, None, Non...   \n",
       "9  [None, 2015-03-25T01:18:53.881442Z, None, None...   \n",
       "\n",
       "                                               picks  picks_count  \n",
       "0  [None, None, None, None, None, None, None, Non...            0  \n",
       "1  [None, None, None, None, None, 2015-03-25T00:1...            1  \n",
       "2  [None, None, 2015-03-25T00:25:06.250624Z, None...            2  \n",
       "3  [None, None, None, None, None, None, 2015-03-2...            1  \n",
       "4  [None, None, None, None, None, None, None, Non...            1  \n",
       "5  [None, None, None, None, None, None, None, Non...            0  \n",
       "6  [None, 2015-03-25T01:06:01.713138Z, 2015-03-25...            3  \n",
       "7  [None, None, None, None, None, None, None, Non...            0  \n",
       "8  [None, None, None, None, None, None, None, Non...            0  \n",
       "9  [None, None, 2015-03-25T01:18:53.882268Z, None...            4  "
      ]
     },
     "execution_count": 16,
     "metadata": {},
     "output_type": "execute_result"
    }
   ],
   "source": [
    "merged.iloc[:10, :]"
   ]
  },
  {
   "cell_type": "code",
   "execution_count": 17,
   "metadata": {},
   "outputs": [
    {
     "data": {
      "text/plain": [
       "[None, None, None, None, None, None, None, None, None, None, None, None]"
      ]
     },
     "execution_count": 17,
     "metadata": {},
     "output_type": "execute_result"
    }
   ],
   "source": [
    "def listdiff(l1, l2):\n",
    "    return [l2[i] - l1[i] if l1[i] and l2[i] else None for i in range(len(l1))]\n",
    "def calc_diffs(row):\n",
    "    return listdiff(row['s_times'], row['picks'])\n",
    "l2 = merged.iloc[:1, :].loc[:, 'picks'][0]\n",
    "# merged.iloc[:1, :].loc[:, 'starttime_str'][0]\n",
    "# merged.iloc[1, 0]\n",
    "l2"
   ]
  },
  {
   "cell_type": "code",
   "execution_count": 18,
   "metadata": {},
   "outputs": [],
   "source": [
    "merged['diffs'] = merged.apply(calc_diffs, axis=1)\n",
    "# type(merged.iloc[:1, :].loc[:, ['diffs']])"
   ]
  },
  {
   "cell_type": "code",
   "execution_count": 19,
   "metadata": {},
   "outputs": [
    {
     "data": {
      "text/plain": [
       "0"
      ]
     },
     "execution_count": 19,
     "metadata": {},
     "output_type": "execute_result"
    }
   ],
   "source": [
    "# merged.iloc[:1, :]\n",
    "merged.iloc[12, 4]"
   ]
  },
  {
   "cell_type": "code",
   "execution_count": 20,
   "metadata": {},
   "outputs": [
    {
     "data": {
      "text/plain": [
       "[2015-03-25T00:14:49.400772Z,\n",
       " 2015-03-25T00:14:49.400553Z,\n",
       " 2015-03-25T00:14:49.400555Z,\n",
       " None,\n",
       " 2015-03-25T00:14:49.401445Z,\n",
       " 2015-03-25T00:14:49.401466Z,\n",
       " 2015-03-25T00:14:49.401471Z,\n",
       " 2015-03-25T00:14:49.401503Z,\n",
       " None,\n",
       " 2015-03-25T00:14:49.400784Z,\n",
       " 2015-03-25T00:14:49.400809Z,\n",
       " 2015-03-25T00:14:49.400804Z]"
      ]
     },
     "execution_count": 20,
     "metadata": {},
     "output_type": "execute_result"
    }
   ],
   "source": [
    "l1 = merged.iloc[:1, :].loc[:, 's_times'][0]\n",
    "l1"
   ]
  },
  {
   "cell_type": "code",
   "execution_count": 21,
   "metadata": {
    "scrolled": true
   },
   "outputs": [
    {
     "data": {
      "text/plain": [
       "0       [None, None, None, None, None, None, None, Non...\n",
       "1       [None, None, None, None, None, None, None, Non...\n",
       "2       [None, None, 0.001949, None, None, None, None,...\n",
       "3       [None, None, None, None, None, None, 0.000877,...\n",
       "4       [None, None, None, None, None, None, None, Non...\n",
       "                              ...                        \n",
       "1122    [None, None, None, None, None, None, None, Non...\n",
       "1123    [None, None, None, None, None, None, None, Non...\n",
       "1124    [None, None, None, None, None, None, None, Non...\n",
       "1125    [None, None, None, None, None, None, None, Non...\n",
       "1126    [None, None, None, None, None, None, None, Non...\n",
       "Name: diffs, Length: 1127, dtype: object"
      ]
     },
     "execution_count": 21,
     "metadata": {},
     "output_type": "execute_result"
    }
   ],
   "source": [
    "merged['diffs']"
   ]
  },
  {
   "cell_type": "markdown",
   "metadata": {},
   "source": [
    "### Statistik\n",
    "\n",
    "Picks pro Event"
   ]
  },
  {
   "cell_type": "code",
   "execution_count": 22,
   "metadata": {},
   "outputs": [],
   "source": [
    "ss = merged['diffs'].iloc[2]"
   ]
  },
  {
   "cell_type": "markdown",
   "metadata": {},
   "source": [
    "Mit Stichproben überprüfen!"
   ]
  },
  {
   "cell_type": "code",
   "execution_count": 23,
   "metadata": {},
   "outputs": [
    {
     "name": "stderr",
     "output_type": "stream",
     "text": [
      "/home/1/dev/proj/dugseis/devel/processing/analysis/ds_picker_histogram.py:62: MatplotlibDeprecationWarning: Adding an axes using the same arguments as a previous axes currently reuses the earlier instance.  In a future version, a new instance will always be created and returned.  Meanwhile, this warning can be suppressed, and the future behavior ensured, by passing a unique label to each axes instance.\n",
      "  ax = plt.axes()\n"
     ]
    },
    {
     "data": {
      "text/plain": [
       "<Figure size 432x288 with 0 Axes>"
      ]
     },
     "metadata": {},
     "output_type": "display_data"
    },
    {
     "data": {
      "text/plain": [
       "<Figure size 432x288 with 0 Axes>"
      ]
     },
     "metadata": {},
     "output_type": "display_data"
    },
    {
     "data": {
      "text/plain": [
       "<Figure size 432x288 with 0 Axes>"
      ]
     },
     "metadata": {},
     "output_type": "display_data"
    },
    {
     "data": {
      "text/plain": [
       "<Figure size 432x288 with 0 Axes>"
      ]
     },
     "metadata": {},
     "output_type": "display_data"
    },
    {
     "data": {
      "text/plain": [
       "<Figure size 432x288 with 0 Axes>"
      ]
     },
     "metadata": {},
     "output_type": "display_data"
    },
    {
     "data": {
      "text/plain": [
       "<Figure size 432x288 with 0 Axes>"
      ]
     },
     "metadata": {},
     "output_type": "display_data"
    },
    {
     "data": {
      "text/plain": [
       "<Figure size 432x288 with 0 Axes>"
      ]
     },
     "metadata": {},
     "output_type": "display_data"
    },
    {
     "data": {
      "text/plain": [
       "<Figure size 432x288 with 0 Axes>"
      ]
     },
     "metadata": {},
     "output_type": "display_data"
    },
    {
     "data": {
      "text/plain": [
       "<Figure size 432x288 with 0 Axes>"
      ]
     },
     "metadata": {},
     "output_type": "display_data"
    },
    {
     "data": {
      "text/plain": [
       "<Figure size 432x288 with 0 Axes>"
      ]
     },
     "metadata": {},
     "output_type": "display_data"
    },
    {
     "data": {
      "text/plain": [
       "<Figure size 432x288 with 0 Axes>"
      ]
     },
     "metadata": {},
     "output_type": "display_data"
    },
    {
     "data": {
      "text/plain": [
       "<Figure size 432x288 with 0 Axes>"
      ]
     },
     "metadata": {},
     "output_type": "display_data"
    },
    {
     "data": {
      "text/plain": [
       "<Figure size 432x288 with 0 Axes>"
      ]
     },
     "metadata": {},
     "output_type": "display_data"
    },
    {
     "data": {
      "image/png": "[encoded data removed]",
      "text/plain": [
       "<Figure size 432x288 with 1 Axes>"
      ]
     },
     "metadata": {
      "needs_background": "light"
     },
     "output_type": "display_data"
    }
   ],
   "source": [
    "def channel_diffs(n):\n",
    "    return [li[n] for li in merged['diffs'] if li[n] is not None]\n",
    "\n",
    "\n",
    "dir = f'/home/1/dev/proj/dugseis/devel/processing/s-wave/plotting/gmug/histograms/{thr_on_str}'\n",
    "diffs_all = []\n",
    "pick_type = 's'\n",
    "\n",
    "# radius = 0.2\n",
    "# tickslist = [i / 100 for i in range(-20, 20, 5)]\n",
    "\n",
    "# radius = 4\n",
    "# tickslist = range(-radius, radius, 2)\n",
    "\n",
    "radius = 15\n",
    "tickslist = range(-radius, radius, 5)\n",
    "\n",
    "if 1:\n",
    "    for ch in range(12):\n",
    "        diffs = channel_diffs(ch)\n",
    "        diffs_all += diffs\n",
    "        ds_picker_histogram.plot_exec(\n",
    "            values=diffs,\n",
    "            title=f'Channel {ch + 1}, {len(diffs)} {pick_type}-picks',\n",
    "            filename=f'{dir}/{pick_type}_channel_r={radius}_{str(ch + 1).zfill(2)}.png',\n",
    "            radius=radius,\n",
    "            tickslist=tickslist,\n",
    "        )\n",
    "\n",
    "\n",
    "    ds_picker_histogram.plot_exec(\n",
    "        values=diffs_all,\n",
    "        title=f'All channels, {len(diffs_all)} {pick_type}-picks',\n",
    "        filename=f'{dir}/{pick_type}_channel_r={radius}_all.png',\n",
    "        radius=radius,\n",
    "        tickslist=tickslist,\n",
    "    )\n"
   ]
  }
 ],
 "metadata": {
  "kernelspec": {
   "display_name": "Python (dug-seis)",
   "language": "python",
   "name": "dug-seis"
  },
  "language_info": {
   "codemirror_mode": {
    "name": "ipython",
    "version": 3
   },
   "file_extension": ".py",
   "mimetype": "text/x-python",
   "name": "python",
   "nbconvert_exporter": "python",
   "pygments_lexer": "ipython3",
   "version": "3.6.7"
  }
 },
 "nbformat": 4,
 "nbformat_minor": 4
}
