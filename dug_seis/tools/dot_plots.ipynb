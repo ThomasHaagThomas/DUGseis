{
 "cells": [
  {
   "cell_type": "code",
   "execution_count": 1,
   "metadata": {},
   "outputs": [],
   "source": [
    "import json\n",
    "\n",
    "import pandas as pd\n",
    "import matplotlib.pyplot as plt\n",
    "from obspy import core\n",
    "from obspy.core import utcdatetime\n",
    "from obspy.core.utcdatetime import UTCDateTime\n"
   ]
  },
  {
   "cell_type": "code",
   "execution_count": 2,
   "metadata": {},
   "outputs": [],
   "source": [
    "def load_data(cfg):\n",
    "    # select reference file depending on number of source files\n",
    "    # src_file = (cfg['tools'] + 'p_picker_reference--012.csv')\n",
    "    # src_file = (cfg['tools'] + 'p_picker_reference--030.csv')\n",
    "    src_file = (cfg['tools'] + 'p_picker_reference.csv')\n",
    "\n",
    "    df_src = pd.read_csv(src_file, sep='\\t', index_col=False, header=None)\n",
    "\n",
    "    ref = []\n",
    "    event = {}\n",
    "\n",
    "    for row in [df_src.iloc[i] for i in range(0, len(df_src))]:\n",
    "        if row[1] != 'P':\n",
    "            ref.append(event)\n",
    "            event = {\n",
    "                'time' : UTCDateTime(row[1]),\n",
    "                # 'x'    : row[2],\n",
    "                # 'y'    : row[3],\n",
    "                # 'z'    : row[4],\n",
    "                # 'mag'  : row[5],\n",
    "                'id'   : row[6].replace('smi:local/event/', ''),\n",
    "                'picks': {},\n",
    "                }\n",
    "        else:\n",
    "            event['picks'][int(row[4].replace('R', ''))] = UTCDateTime(row[2])\n",
    "\n",
    "    ref.append(event)\n",
    "\n",
    "    # delete empty first element\n",
    "    ref = ref[1:]\n",
    "\n",
    "    for i in range(0, len(ref)):\n",
    "        ref[i]['average'] = utf_average(ref[i])\n",
    "    return ref"
   ]
  },
  {
   "cell_type": "code",
   "execution_count": 3,
   "metadata": {},
   "outputs": [],
   "source": [
    "main_dir = '/home/1/dev/proj/dugseis/devel/processing/analysis/p_picker/'\n",
    "file = 'output/12-sourcefiles/3.0_1.5_7_180/details_3.0_1.5_7_180.json'\n",
    "\n",
    "with open(main_dir + file, 'r') as read_file:\n",
    "    det = json.load(read_file)"
   ]
  },
  {
   "cell_type": "code",
   "execution_count": 4,
   "metadata": {},
   "outputs": [
    {
     "data": {
      "text/plain": [
       "146"
      ]
     },
     "execution_count": 4,
     "metadata": {},
     "output_type": "execute_result"
    }
   ],
   "source": [
    "len([d for d in det])"
   ]
  },
  {
   "cell_type": "code",
   "execution_count": 5,
   "metadata": {},
   "outputs": [
    {
     "data": {
      "text/plain": [
       "[]"
      ]
     },
     "execution_count": 5,
     "metadata": {},
     "output_type": "execute_result"
    }
   ],
   "source": [
    "matchings = [d['time_diff'] for d in det if d['match'] == 'OK']\n",
    "[m for m in matchings if m >= 0]"
   ]
  },
  {
   "cell_type": "code",
   "execution_count": 6,
   "metadata": {},
   "outputs": [
    {
     "data": {
      "text/plain": [
       "96"
      ]
     },
     "execution_count": 6,
     "metadata": {},
     "output_type": "execute_result"
    }
   ],
   "source": [
    "len([d for d in det if d['match'] == 'OK'])"
   ]
  },
  {
   "cell_type": "code",
   "execution_count": 7,
   "metadata": {},
   "outputs": [
    {
     "data": {
      "image/png": "[encoded data removed]",
      "text/plain": [
       "<Figure size 432x288 with 1 Axes>"
      ]
     },
     "metadata": {
      "needs_background": "light"
     },
     "output_type": "display_data"
    }
   ],
   "source": [
    "ref_times = [d['ref_time']  for d in det if d['match'] == 'OK']\n",
    "diffs     = [d['time_diff'] for d in det if d['match'] == 'OK']\n",
    "fig, ax = plt.subplots()\n",
    "plt.plot(ref_times, diffs, 'o')\n",
    "plt.show()"
   ]
  },
  {
   "cell_type": "code",
   "execution_count": 8,
   "metadata": {},
   "outputs": [
    {
     "data": {
      "image/png": "[encoded data removed]",
      "text/plain": [
       "<Figure size 432x288 with 1 Axes>"
      ]
     },
     "metadata": {
      "needs_background": "light"
     },
     "output_type": "display_data"
    }
   ],
   "source": [
    "plt.plot(ref_times, diffs, 'o', markersize=3)\n",
    "plt.show()"
   ]
  }
 ],
 "metadata": {
  "kernelspec": {
   "display_name": "Python (dug-seis)",
   "language": "python",
   "name": "dug-seis"
  },
  "language_info": {
   "codemirror_mode": {
    "name": "ipython",
    "version": 3
   },
   "file_extension": ".py",
   "mimetype": "text/x-python",
   "name": "python",
   "nbconvert_exporter": "python",
   "pygments_lexer": "ipython3",
   "version": "3.6.7"
  }
 },
 "nbformat": 4,
 "nbformat_minor": 2
}
