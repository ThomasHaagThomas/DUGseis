{
 "cells": [
  {
   "cell_type": "code",
   "execution_count": 1,
   "metadata": {},
   "outputs": [],
   "source": [
    "import re\n",
    "from operator import itemgetter\n",
    "\n",
    "import numpy as np\n",
    "from obspy import Stream, Trace, UTCDateTime\n",
    "import pyasdf\n",
    "\n",
    "# infile = '/home/1/dev/proj/dugseis/doku/GMUG/20W20190701181032860.dat'\n",
    "infile = '/home/1/dev/proj/dugseis/doku/GMUG/s-wave/Data/AGW20150325001449390'\n",
    "dest_dir = '/home/1/dev/proj/dugseis/devel/processing/plotting/gmug/'\n",
    "# data = np.fromfile(f'{infile}.dat', dtype='int16')\n",
    "# traces = np.split(data, 32)"
   ]
  },
  {
   "cell_type": "code",
   "execution_count": 2,
   "metadata": {},
   "outputs": [
    {
     "data": {
      "text/plain": [
       "[2015-03-25T00:14:49.400000Z,\n",
       " 2015-03-25T00:16:33.247000Z,\n",
       " 2015-03-25T00:25:06.248000Z,\n",
       " 2015-03-25T00:43:14.494000Z,\n",
       " 2015-03-25T00:51:31.803000Z,\n",
       " 2015-03-25T00:58:22.551000Z,\n",
       " 2015-03-25T01:06:01.711000Z,\n",
       " 2015-03-25T01:06:56.649000Z]"
      ]
     },
     "execution_count": 2,
     "metadata": {},
     "output_type": "execute_result"
    }
   ],
   "source": [
    "# read txt file\n",
    "with open(f'{infile}.txt', 'r', encoding='iso-8859-15') as fh:\n",
    "    lines = re.sub(r'\\n+$', '', fh.read()).split('\\n')\n",
    "\n",
    "times = lines[18:]\n",
    "times = [[int(el) for el in x] for x in [t.strip().split() for t in times]]\n",
    "times = [UTCDateTime(t[5], t[6], t[7], t[1], t[2], t[3], t[4] * 1000) for t in times]\n",
    "times"
   ]
  },
  {
   "cell_type": "code",
   "execution_count": 3,
   "metadata": {},
   "outputs": [
    {
     "data": {
      "text/plain": [
       "{'delta': 2,\n",
       " 'records_count': 8,\n",
       " 'samples_count': 16384,\n",
       " 'channels_count': 16,\n",
       " 'pre_trigger_precent': 15,\n",
       " 'ad_resolution': 16,\n",
       " 'input_range': [10000,\n",
       "  10000,\n",
       "  10000,\n",
       "  10000,\n",
       "  10000,\n",
       "  10000,\n",
       "  10000,\n",
       "  10000,\n",
       "  10000,\n",
       "  10000,\n",
       "  10000,\n",
       "  10000,\n",
       "  10000,\n",
       "  10000,\n",
       "  10000,\n",
       "  10000],\n",
       " 'trigger_level': [8,\n",
       "  8,\n",
       "  8,\n",
       "  1000,\n",
       "  8,\n",
       "  8,\n",
       "  8,\n",
       "  8,\n",
       "  8,\n",
       "  8,\n",
       "  8,\n",
       "  8,\n",
       "  1000,\n",
       "  1000,\n",
       "  1000,\n",
       "  1000],\n",
       " 'digit_multiplier': [1, 1, 1, 1, 1, 1, 1, 1, 1, 1, 1, 1, 0, 0, 0, 0],\n",
       " 'sampling_rate': 500000.0}"
      ]
     },
     "execution_count": 3,
     "metadata": {},
     "output_type": "execute_result"
    }
   ],
   "source": [
    "lines = itemgetter(*[i for i in range(4, 15) if i not in (12, 13)])(lines)\n",
    "keys = ('delta', 'records_count', 'samples_count', 'channels_count', 'pre_trigger_precent', \n",
    "        'ad_resolution', 'input_range', 'trigger_level', 'digit_multiplier')\n",
    "params = dict(zip(keys, [l.strip() for l in lines]))\n",
    "\n",
    "# type conversions\n",
    "params['delta'] = float(params['delta'])\n",
    "\n",
    "# to integer\n",
    "for key in ('delta', 'records_count', 'samples_count', 'channels_count', 'pre_trigger_precent', \n",
    "        'ad_resolution'):\n",
    "    params[key] = int(params[key])\n",
    "\n",
    "# to list of integers\n",
    "for key in ('input_range', 'trigger_level', 'digit_multiplier'):\n",
    "    params[key] = [int(x) for x in params[key].split()]\n",
    "\n",
    "params['sampling_rate'] = 1 / (params['delta'] * 1e-6)\n",
    "\n",
    "params"
   ]
  },
  {
   "cell_type": "code",
   "execution_count": 4,
   "metadata": {},
   "outputs": [
    {
     "name": "stdout",
     "output_type": "stream",
     "text": [
      "2097152\n",
      "Done\n"
     ]
    }
   ],
   "source": [
    "# read dat file\n",
    "src_data = np.fromfile(f'{infile}.dat', dtype='int16')\n",
    "print(len(src_data))\n",
    "events = np.split(src_data, len(times))\n",
    "# print(len(src_data))\n",
    "# print(len(events[0]))\n",
    "\n",
    "# len(events[0]) / 16\n",
    "\n",
    "# tr = obspy.Trace(data=np.array([0., 0., 0., 0., 1., 2., 1., 0., 0.]))\n",
    "\n",
    "\n",
    "# for evt_idx in len(times):\n",
    "# for evt_idx in [0]:\n",
    "#     stream = Stream()\n",
    "#     channels = np.split(events[evt_idx], params['channels_count'])\n",
    "#     for ch_idx in range(0, params['channels_count']):\n",
    "#         data = channels[ch_idx]\n",
    "#         stats = {\n",
    "#             'network'      : 'IK',\n",
    "#             'station'      : str(ch_idx + 1).zfill(3),\n",
    "#             'location'     : '00',\n",
    "#             'channel'      : '001',\n",
    "#             'delta'        : params['delta'],\n",
    "#             'sampling_rate': params['sampling_rate'],\n",
    "#             'starttime'    : times[evt_idx],\n",
    "#         }\n",
    "#         stream += Trace(data=data, header=stats)\n",
    "\n",
    "#         filename = times[3].isoformat().replace(':', '-').replace('.', '')[:-2] + 'Z_gmug-v4.h5'\n",
    "#     file_handle = pyasdf.ASDFDataSet(dest_dir + filename, compression=None)\n",
    "# #     file_handle.add_waveforms(stream, tag='raw_recording')\n",
    "#     file_handle.append_waveforms(stream, tag='raw_recording')\n",
    "\n",
    "print('Done')"
   ]
  },
  {
   "cell_type": "code",
   "execution_count": 5,
   "metadata": {},
   "outputs": [],
   "source": [
    "stream = Stream()\n",
    "evt_idx = 0\n",
    "channels = np.split(events[evt_idx], params['channels_count'])\n",
    "\n",
    "for ch_idx in range(0, params['channels_count']):\n",
    "    data = channels[ch_idx]\n",
    "    stats = {\n",
    "        'network'      : 'IK',\n",
    "        'station'      : str(ch_idx + 1).zfill(3),\n",
    "        'location'     : '00',\n",
    "        'channel'      : '001',\n",
    "#         'npts'         : 10,\n",
    "        'delta'        : params['delta'],\n",
    "        'sampling_rate': params['sampling_rate'],\n",
    "        'starttime'    : times[evt_idx],\n",
    "    }\n",
    "    stream += Trace(data=data, header=stats)\n",
    "\n",
    "filename = times[3].isoformat().replace(':', '-').replace('.', '')[:-2] + 'Z_gmug-xyz.h5'\n",
    "file_handle = pyasdf.ASDFDataSet(dest_dir + filename, compression=None)\n",
    "file_handle.add_waveforms(stream, tag='raw_recording')"
   ]
  },
  {
   "cell_type": "code",
   "execution_count": 6,
   "metadata": {},
   "outputs": [
    {
     "data": {
      "text/plain": [
       "2015-03-25T00:14:49.400000Z"
      ]
     },
     "execution_count": 6,
     "metadata": {},
     "output_type": "execute_result"
    }
   ],
   "source": [
    "load_files = ['2015-03-25T00-14-494000Z_gmug-v-mx-01.h5']\n",
    "t_str = re.sub('Z.*', '', load_files[0])\n",
    "li = re.split('[^0-9]', t_str)\n",
    "li = li[:5] + [li[-1][0:2], li[-1][2:].ljust(6, '0')]\n",
    "UTCDateTime(*[int(l) for l in li])"
   ]
  }
 ],
 "metadata": {
  "kernelspec": {
   "display_name": "Python 3.6.7 64-bit ('dug-seis': conda)",
   "language": "python",
   "name": "python36764bitdugseiscondadc6c2d828efd46299ce06a376e359ecb"
  },
  "language_info": {
   "codemirror_mode": {
    "name": "ipython",
    "version": 3
   },
   "file_extension": ".py",
   "mimetype": "text/x-python",
   "name": "python",
   "nbconvert_exporter": "python",
   "pygments_lexer": "ipython3",
   "version": "3.6.7"
  }
 },
 "nbformat": 4,
 "nbformat_minor": 4
}
