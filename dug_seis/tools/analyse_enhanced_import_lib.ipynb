{
 "cells": [
  {
   "cell_type": "markdown",
   "metadata": {},
   "source": [
    "## Examination of the enhanced STA/LTA Picker\n",
    "\n",
    "Sometimes the enhanced version produces less total matches with the reference then the origignal version.\n",
    "\n",
    "Here we want to find out why."
   ]
  },
  {
   "cell_type": "code",
   "execution_count": 1,
   "metadata": {},
   "outputs": [],
   "source": [
    "import re\n",
    "import json\n",
    "import sys\n",
    "\n",
    "from obspy.core.utcdatetime import UTCDateTime\n",
    "\n",
    "sys.path.append('../')\n",
    "from lib import *\n",
    "\n",
    "main_dir = '/home/1/dev/proj/dugseis/devel/processing/analysis/p_picker/' + \\\n",
    "           'output/58-sourcefiles/'\n",
    "rel_path_v1 = '5.5_2.0_8_180_v1/details_5.5_2.0_8_180.json'\n",
    "rel_path_v2 = '5.5_2.0_8_180_v2/details_5.5_2.0_8_180.json'\n",
    "\n",
    "with open(main_dir + rel_path_v1, 'r') as read_file:\n",
    "    det1 = json.load(read_file)\n",
    "with open(main_dir + rel_path_v2, 'r') as read_file:\n",
    "    det2 = json.load(read_file)"
   ]
  },
  {
   "cell_type": "markdown",
   "metadata": {},
   "source": [
    "Comparing matches of original and enhanced picker."
   ]
  },
  {
   "cell_type": "code",
   "execution_count": 2,
   "metadata": {},
   "outputs": [
    {
     "data": {
      "text/plain": [
       "{'14846'}"
      ]
     },
     "execution_count": 2,
     "metadata": {},
     "output_type": "execute_result"
    }
   ],
   "source": [
    "ok1 = set([d['ref_id'] for d in det1 if d['match'] == 'OK'])\n",
    "ok2 = set([d['ref_id'] for d in det2 if d['match'] == 'OK'])\n",
    "ok1.difference(ok2)"
   ]
  },
  {
   "cell_type": "code",
   "execution_count": 3,
   "metadata": {},
   "outputs": [
    {
     "data": {
      "text/plain": [
       "set()"
      ]
     },
     "execution_count": 3,
     "metadata": {},
     "output_type": "execute_result"
    }
   ],
   "source": [
    "ok2.difference(ok1)"
   ]
  },
  {
   "cell_type": "code",
   "execution_count": 4,
   "metadata": {},
   "outputs": [
    {
     "data": {
      "text/plain": [
       "[{'i': 2347,\n",
       "  'ref_id': '14846',\n",
       "  'ref_time': 540.1833729743958,\n",
       "  'dug_avrg': 540.1846001148224,\n",
       "  'match': 'OK',\n",
       "  'time_diff': 0.0012271404266357422,\n",
       "  'picks': {'OK': 4,\n",
       "   'missed': [22],\n",
       "   'false': [19, 23, 25, 26],\n",
       "   'diffs': [{'ch': 16, 'ref_time': 540.1835780143738, 'diff': 8.5e-05},\n",
       "    {'ch': 17, 'ref_time': 540.1830880641937, 'diff': 5.5e-05},\n",
       "    {'ch': 18, 'ref_time': 540.1835231781006, 'diff': 9.5e-05},\n",
       "    {'ch': 21, 'ref_time': 540.1833930015564, 'diff': 6.5e-05}]}}]"
      ]
     },
     "execution_count": 4,
     "metadata": {},
     "output_type": "execute_result"
    }
   ],
   "source": [
    "# time 540.18... = 13:33:00:0.18...\n",
    "missing = [d for d in det1 if d['ref_id'] == '14846']\n",
    "missing"
   ]
  },
  {
   "cell_type": "markdown",
   "metadata": {},
   "source": [
    "This event is missing in the run with the enhanced Picker."
   ]
  },
  {
   "cell_type": "code",
   "execution_count": 5,
   "metadata": {},
   "outputs": [
    {
     "data": {
      "text/plain": [
       "[{'i': 2347,\n",
       "  'ref_id': '14846',\n",
       "  'ref_time': 540.1833729743958,\n",
       "  'dug_avrg': 540.1846001148224,\n",
       "  'match': 'OK'}]"
      ]
     },
     "execution_count": 5,
     "metadata": {},
     "output_type": "execute_result"
    }
   ],
   "source": [
    "selection(missing)"
   ]
  },
  {
   "cell_type": "code",
   "execution_count": 6,
   "metadata": {},
   "outputs": [
    {
     "data": {
      "text/plain": [
       "[{'i': 2346,\n",
       "  'ref_id': '14845',\n",
       "  'ref_time': 539.4590990543365,\n",
       "  'dug_avrg': 539.4591495990753,\n",
       "  'match': 'OK'},\n",
       " {'i': 2347,\n",
       "  'ref_id': '14846',\n",
       "  'ref_time': 540.1833729743958,\n",
       "  'dug_avrg': 540.1846001148224,\n",
       "  'match': 'OK'},\n",
       " {'i': 2348,\n",
       "  'ref_id': '14847',\n",
       "  'ref_time': 540.2479679584503,\n",
       "  'dug_avrg': 540.2507729530334,\n",
       "  'match': 'OK'},\n",
       " {'i': 2349,\n",
       "  'ref_id': '14848',\n",
       "  'ref_time': 541.4315459728241,\n",
       "  'dug_avrg': 541.4306621551514,\n",
       "  'match': 'OK'},\n",
       " {'i': 2350,\n",
       "  'ref_id': '14850',\n",
       "  'ref_time': 541.686708688736,\n",
       "  'dug_avrg': 541.686785697937,\n",
       "  'match': 'OK'}]"
      ]
     },
     "execution_count": 6,
     "metadata": {},
     "output_type": "execute_result"
    }
   ],
   "source": [
    "selection(det1[2346:2351])"
   ]
  },
  {
   "cell_type": "code",
   "execution_count": 7,
   "metadata": {},
   "outputs": [
    {
     "data": {
      "text/plain": [
       "[{'i': 2345,\n",
       "  'ref_id': '–',\n",
       "  'ref_time': '–',\n",
       "  'dug_id': 2953,\n",
       "  'dug_avrg': 538.5022709369659,\n",
       "  'match': 'false',\n",
       "  'time_diff': '–'},\n",
       " {'i': 2346,\n",
       "  'ref_id': '14845',\n",
       "  'ref_time': 539.4590990543365,\n",
       "  'dug_id': 2954,\n",
       "  'dug_avrg': 539.4591295719147,\n",
       "  'match': 'OK',\n",
       "  'time_diff': 3.0517578125e-05,\n",
       "  'picks': {'OK': 10,\n",
       "   'missed': [],\n",
       "   'false': [6, 26, 27],\n",
       "   'diffs': [{'ch': 4, 'ref_time': 539.4628422260284, 'diff': -0.007441},\n",
       "    {'ch': 5, 'ref_time': 539.4631669521332, 'diff': 7.8e-05},\n",
       "    {'ch': 16, 'ref_time': 539.4591820240021, 'diff': 2.7e-05},\n",
       "    {'ch': 17, 'ref_time': 539.4587121009827, 'diff': 2.4e-05},\n",
       "    {'ch': 18, 'ref_time': 539.4590721130371, 'diff': 3.3e-05},\n",
       "    {'ch': 19, 'ref_time': 539.4596118927002, 'diff': 5.8e-05},\n",
       "    {'ch': 20, 'ref_time': 539.4593768119812, 'diff': 3.8e-05},\n",
       "    {'ch': 21, 'ref_time': 539.4590120315552, 'diff': 3.3e-05},\n",
       "    {'ch': 22, 'ref_time': 539.4587268829346, 'diff': 0.0},\n",
       "    {'ch': 23, 'ref_time': 539.45987200737, 'diff': 0.000102}]}},\n",
       " {'i': 2347,\n",
       "  'ref_id': '–',\n",
       "  'ref_time': '–',\n",
       "  'dug_id': 2956,\n",
       "  'dug_avrg': 540.0566649436951,\n",
       "  'match': 'false',\n",
       "  'time_diff': '–'},\n",
       " {'i': 2348,\n",
       "  'ref_id': '14846',\n",
       "  'ref_time': 540.1833729743958,\n",
       "  'dug_avrg': '–',\n",
       "  'match': 'missed',\n",
       "  'time_diff': '–'},\n",
       " {'i': 2349,\n",
       "  'ref_id': '14847',\n",
       "  'ref_time': 540.2479679584503,\n",
       "  'dug_id': 2957,\n",
       "  'dug_avrg': 540.2507090568542,\n",
       "  'match': 'OK',\n",
       "  'time_diff': 0.002741098403930664,\n",
       "  'picks': {'OK': 4,\n",
       "   'missed': [],\n",
       "   'false': [4, 22, 27],\n",
       "   'diffs': [{'ch': 16, 'ref_time': 540.2481529712677, 'diff': 2e-05},\n",
       "    {'ch': 17, 'ref_time': 540.2476580142975, 'diff': 0.011086},\n",
       "    {'ch': 18, 'ref_time': 540.2481029033661, 'diff': 6.4e-05},\n",
       "    {'ch': 21, 'ref_time': 540.24795794487, 'diff': 6.2e-05}]}}]"
      ]
     },
     "execution_count": 7,
     "metadata": {},
     "output_type": "execute_result"
    }
   ],
   "source": [
    "det2[2345:2350]"
   ]
  },
  {
   "cell_type": "markdown",
   "metadata": {},
   "source": [
    "## Many false positives"
   ]
  },
  {
   "cell_type": "code",
   "execution_count": 35,
   "metadata": {},
   "outputs": [
    {
     "name": "stdout",
     "output_type": "stream",
     "text": [
      "length det2 = 2501\n",
      "length mfp  = 450\n"
     ]
    },
    {
     "data": {
      "text/plain": [
       "448"
      ]
     },
     "execution_count": 35,
     "metadata": {},
     "output_type": "execute_result"
    }
   ],
   "source": [
    "print(f'length det2 = {len(det2)}')\n",
    "mfp = det2[1700:2150]\n",
    "# selection2(mfp)\n",
    "print(f'length mfp  = {len(mfp)}')\n",
    "len([x for x in mfp if x['match'] == 'false'])"
   ]
  },
  {
   "cell_type": "code",
   "execution_count": 9,
   "metadata": {},
   "outputs": [
    {
     "name": "stdout",
     "output_type": "stream",
     "text": [
      "['13:33:00.199958', '13:33:00.199903', '-0.000055']\n",
      "['13:33:00.179563', '13:33:00.179288', '-0.000275']\n",
      "['13:33:00.192148', '13:33:00.192110', '-0.000038']\n",
      "['13:33:00.183663', '13:33:00.183645', '-0.000018']\n",
      "['13:33:00.183143', '13:33:00.183111', '-0.000032']\n",
      "['13:33:00.183618', '13:33:00.183602', '-0.000016']\n",
      "['13:33:00.189118', '13:32:59.549527', '0.360409']\n",
      "['13:33:00.183458', '13:33:00.183440', '-0.000018']\n",
      "['13:33:00.179493', '13:33:00.179170', '-0.000323']\n",
      "['13:33:00.192323', '13:33:00.192130', '-0.000193']\n",
      "['13:33:00.196183', '13:33:00.196100', '-0.000083']\n",
      "['13:33:00.181603', '13:33:00.181468', '-0.000135']\n",
      "['13:33:00.197393', '13:33:00.197337', '-0.000056']\n",
      "['13:33:00.188843', '13:33:00.188760', '-0.000083']\n",
      "540.1421136428572\n"
     ]
    }
   ],
   "source": [
    "a = [\n",
    "{'old': '13:33:00.199958', 'utc': '13:33:00.199903', 'x0': 4353, 'y0': 5.6424, 'ym2': 4.2309, 'yp2': 6.1272},\n",
    "{'old': '13:33:00.179563', 'utc': '13:33:00.179288', 'x0':  274, 'y0': 5.5934, 'ym2': 5.3137, 'yp2': 5.716},\n",
    "{'old': '13:33:00.192148', 'utc': '13:33:00.192110', 'x0': 2791, 'y0': 6.067,  'ym2': 4.0335, 'yp2': 6.9784},\n",
    "{'old': '13:33:00.183663', 'utc': '13:33:00.183645', 'x0': 1094, 'y0': 6.2156, 'ym2': 2.9469, 'yp2': 11.2336},\n",
    "{'old': '13:33:00.183143', 'utc': '13:33:00.183111', 'x0':  990, 'y0': 6.1849, 'ym2': 3.6187, 'yp2': 6.9848},\n",
    "{'old': '13:33:00.183618', 'utc': '13:33:00.183602', 'x0': 1085, 'y0': 8.0787, 'ym2': 2.6161, 'yp2': 12.3894},\n",
    "{'old': '13:33:00.189118', 'utc': '13:32:59.549527', 'x0': 2185, 'y0': 5.5661, 'ym2': 5.0339, 'yp2': 5.0341},\n",
    "{'old': '13:33:00.183458', 'utc': '13:33:00.183440', 'x0': 1053, 'y0': 5.5403, 'ym2': 2.2054, 'yp2': 8.0373},\n",
    "{'old': '13:33:00.179493', 'utc': '13:33:00.179170', 'x0':  260, 'y0': 5.5456, 'ym2': 5.14,   'yp2': 5.4687},\n",
    "{'old': '13:33:00.192323', 'utc': '13:33:00.192130', 'x0': 2826, 'y0': 5.5204, 'ym2': 5.1077, 'yp2': 5.6678},\n",
    "{'old': '13:33:00.196183', 'utc': '13:33:00.196100', 'x0': 3598, 'y0': 5.7069, 'ym2': 4.7272, 'yp2': 6.0377},\n",
    "{'old': '13:33:00.181603', 'utc': '13:33:00.181468', 'x0':  682, 'y0': 5.8058, 'ym2': 4.8552, 'yp2': 5.6359},\n",
    "{'old': '13:33:00.197393', 'utc': '13:33:00.197337', 'x0': 3840, 'y0': 5.7106, 'ym2': 4.2962, 'yp2': 6.1982},\n",
    "{'old': '13:33:00.188843', 'utc': '13:33:00.188760', 'x0': 2130, 'y0': 5.7867, 'ym2': 4.4928, 'yp2': 5.7298}]\n",
    "\n",
    "def to_float(s):\n",
    "    return float('0' + s[8:])\n",
    "    \n",
    "for el in a:\n",
    "    el['diff'] = round(to_float(el['utc']) - to_float(el['old']), 7)\n",
    "#     print(repr([el['old'], el['utc'], el['diff']]))\n",
    "    print(repr([el['old'], el['utc'], f'{el[\"diff\"]:2.6f}']))\n",
    "\n",
    "b = [(float(el['utc'][3:5]) - 24) * 60 + float(el['utc'][6:8]) + to_float(el['utc']) for el in a]\n",
    "\n",
    "print(sum(b) / len(b))\n",
    "c = [(float(el['utc'][3:5]) - 24) * 60 + float(el['utc'][6:8]) + to_float(el['utc']) for el in a]"
   ]
  },
  {
   "cell_type": "code",
   "execution_count": 10,
   "metadata": {},
   "outputs": [],
   "source": [
    "# def utf_to_sec_relative(utc):\n",
    "#     return utc.__float__() - 1486646660 + 20\n",
    "\n",
    "# def utf_average(event):\n",
    "#     sum = 0\n",
    "#     utc_list = [v for k,v in event['picks'].items() if k in channels_for_avrg]\n",
    "\n",
    "#     for t in utc_list:\n",
    "#         sum += t.__float__()\n",
    "#     # t = 0 is 2017-02-09T13-24-00\n",
    "#     return utf_to_sec_relative(sum / len(utc_list))"
   ]
  },
  {
   "cell_type": "markdown",
   "metadata": {},
   "source": [
    "This data is in the file <code>picks.csv</code>."
   ]
  },
  {
   "cell_type": "code",
   "execution_count": 11,
   "metadata": {},
   "outputs": [
    {
     "data": {
      "text/plain": [
       "{'id': 2956,\n",
       " 'picks': {1: 2017-02-09T13:33:00.199903Z,\n",
       "  9: 2017-02-09T13:33:00.179288Z,\n",
       "  13: 2017-02-09T13:33:00.192110Z,\n",
       "  16: 2017-02-09T13:33:00.183645Z,\n",
       "  17: 2017-02-09T13:33:00.183111Z,\n",
       "  18: 2017-02-09T13:33:00.183602Z,\n",
       "  19: 2017-02-09T13:32:59.549527Z,\n",
       "  21: 2017-02-09T13:33:00.183440Z,\n",
       "  23: 2017-02-09T13:33:00.179170Z,\n",
       "  24: 2017-02-09T13:33:00.192130Z,\n",
       "  25: 2017-02-09T13:33:00.196100Z,\n",
       "  26: 2017-02-09T13:33:00.181468Z,\n",
       "  28: 2017-02-09T13:33:00.197337Z,\n",
       "  32: 2017-02-09T13:33:00.188760Z},\n",
       " 'average': 540.0566649436951}"
      ]
     },
     "execution_count": 11,
     "metadata": {},
     "output_type": "execute_result"
    }
   ],
   "source": [
    "s = '2956,1,2017-02-09T13:33:00.199903,9,2017-02-09T13:33:00.179288,13,2017-02-09T13:33:00.192110,16,2017-02-09T13:33:00.183645,17,2017-02-09T13:33:00.183111,18,2017-02-09T13:33:00.183602,19,2017-02-09T13:32:59.549527,21,2017-02-09T13:33:00.183440,23,2017-02-09T13:33:00.179170,24,2017-02-09T13:33:00.192130,25,2017-02-09T13:33:00.196100,26,2017-02-09T13:33:00.181468,28,2017-02-09T13:33:00.197337,32,2017-02-09T13:33:00.188760'\n",
    "tmp = s.split(',')\n",
    "\n",
    "event = {\n",
    "    'id'   : int(tmp[0]),\n",
    "    'picks':  {},\n",
    "}\n",
    "for pair in list(zip(tmp[1::2], tmp[2::2])):\n",
    "    event['picks'][int(pair[0])] = UTCDateTime(pair[1])\n",
    "    if (len(event['picks']) == 0 or \n",
    "        len([k for k in event['picks'].keys() if k in channels_for_avrg]) == 0):\n",
    "        continue\n",
    "    event['average'] = utf_average(event)\n",
    "\n",
    "event"
   ]
  },
  {
   "cell_type": "code",
   "execution_count": 12,
   "metadata": {},
   "outputs": [
    {
     "data": {
      "text/plain": [
       "[[16, 40.18364500999451],\n",
       " [17, 40.18311095237732],\n",
       " [18, 40.18360185623169],\n",
       " [19, 39.54952692985535],\n",
       " [21, 40.18343997001648]]"
      ]
     },
     "execution_count": 12,
     "metadata": {},
     "output_type": "execute_result"
    }
   ],
   "source": [
    "event['picks'][9]\n",
    "u = UTCDateTime(event['picks'][9])\n",
    "utf_to_sec_relative(u)\n",
    "d = [[ch, utf_to_sec_relative(t) - 500] for ch, t in event['picks'].items() if ch in channels_for_avrg]\n",
    "d"
   ]
  }
 ],
 "metadata": {
  "kernelspec": {
   "display_name": "Python 3",
   "language": "python",
   "name": "python3"
  },
  "language_info": {
   "codemirror_mode": {
    "name": "ipython",
    "version": 3
   },
   "file_extension": ".py",
   "mimetype": "text/x-python",
   "name": "python",
   "nbconvert_exporter": "python",
   "pygments_lexer": "ipython3",
   "version": "3.7.4"
  }
 },
 "nbformat": 4,
 "nbformat_minor": 2
}
